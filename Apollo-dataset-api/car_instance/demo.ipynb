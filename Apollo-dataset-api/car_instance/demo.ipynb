{
 "cells": [
  {
   "cell_type": "code",
   "execution_count": 1,
   "metadata": {},
   "outputs": [
    {
     "name": "stderr",
     "output_type": "stream",
     "text": [
      "INFO:root:loading 79 car models\n"
     ]
    }
   ],
   "source": [
    "import sys\n",
    "sys.path.insert(0, './renderer')\n",
    "sys.path.insert(0, '../')\n",
    "\n",
    "\"\"\"\n",
    "PyTorch 的 collections 库提供了一些用于管理和操作 Python 集合的工具。\n",
    "namedtuple: 用于创建具有命名属性的元组。\n",
    "\"\"\"\n",
    "from collections import namedtuple\n",
    "import render_car_instances as rci\n",
    "import utils.utils as uts\n",
    "\n",
    "Setting = namedtuple('Setting', ['image_name', 'data_dir'])\n",
    "setting = Setting('180116_053947113_Camera_5', '../apolloscape/sample/')\n",
    "# /home/yang/Datasets/ApolloScape/CarInstance/sample/car_models//baojun-310-2017.pkl\n",
    "# setting = Setting('180116_053947113_Camera_5', '/home/yang/Datasets/ApolloScape/CarInstance/sample/')\n",
    "\n",
    "\n",
    "\"\"\"\n",
    "matplotlib inline是IPython的魔法函数,\n",
    "可以在IPython编译器里直接使用,作用是内嵌画图,省略掉plt.show()这一步，直接显示图像。\n",
    "\"\"\"\n",
    "%matplotlib inline\n",
    "visualizer = rci.CarPoseVisualizer(setting) # 初始化类，获得数据集的地址，内外参，分辨率等信息\n",
    "visualizer.load_car_models_json()\n",
    "# image_vis, mask, depth = visualizer.showAnn(setting.image_name)\n"
   ]
  },
  {
   "cell_type": "code",
   "execution_count": 16,
   "metadata": {},
   "outputs": [
    {
     "name": "stdout",
     "output_type": "stream",
     "text": [
      "(2, 2, 4)\n",
      "[[0 0 0 0]\n",
      " [0 0 0 0]]\n",
      "[[1. 0. 1. 0.]\n",
      " [1. 1. 1. 0.]]\n"
     ]
    }
   ],
   "source": [
    "# image_vis, mask, depth = visualizer.showAnn(setting.image_name)\n",
    "import numpy as np\n",
    "temp = np.array([[1,0,1,0],[1,1,1,0]])\n",
    "depth = 5 * np.ones(temp.shape)\n",
    "depth_arr = np.concatenate([temp[None, :, :], depth[None, :, :]], axis=0)\n",
    "idx = np.argmin(depth_arr, axis=0)\n",
    "total_depth = np.amin(depth_arr, axis=0)\n",
    "print(depth_arr.shape)\n",
    "print(idx)\n",
    "print(total_depth)"
   ]
  },
  {
   "cell_type": "code",
   "execution_count": null,
   "metadata": {},
   "outputs": [],
   "source": []
  }
 ],
 "metadata": {
  "kernelspec": {
   "display_name": "nerf",
   "language": "python",
   "name": "python3"
  },
  "language_info": {
   "codemirror_mode": {
    "name": "ipython",
    "version": 3
   },
   "file_extension": ".py",
   "mimetype": "text/x-python",
   "name": "python",
   "nbconvert_exporter": "python",
   "pygments_lexer": "ipython3",
   "version": "3.8.0"
  }
 },
 "nbformat": 4,
 "nbformat_minor": 2
}
