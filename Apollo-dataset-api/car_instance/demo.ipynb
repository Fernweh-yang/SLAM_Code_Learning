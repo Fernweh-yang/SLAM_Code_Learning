{
 "cells": [
  {
   "cell_type": "code",
   "execution_count": 1,
   "metadata": {},
   "outputs": [
    {
     "name": "stderr",
     "output_type": "stream",
     "text": [
      "INFO:root:loading 79 car models\n"
     ]
    }
   ],
   "source": [
    "import sys\n",
    "sys.path.insert(0, './renderer')\n",
    "sys.path.insert(0, '../')\n",
    "\n",
    "\"\"\"\n",
    "PyTorch 的 collections 库提供了一些用于管理和操作 Python 集合的工具。\n",
    "namedtuple: 用于创建具有命名属性的元组。\n",
    "\"\"\"\n",
    "from collections import namedtuple\n",
    "import render_car_instances as rci\n",
    "import utils.utils as uts\n",
    "\n",
    "Setting = namedtuple('Setting', ['image_name', 'data_dir'])\n",
    "setting = Setting('180116_053947113_Camera_5', '../apolloscape/sample/')\n",
    "# /home/yang/Datasets/ApolloScape/CarInstance/sample/car_models//baojun-310-2017.pkl\n",
    "# setting = Setting('180116_053947113_Camera_5', '/home/yang/Datasets/ApolloScape/CarInstance/sample/')\n",
    "\n",
    "\n",
    "\"\"\"\n",
    "matplotlib inline是IPython的魔法函数,\n",
    "可以在IPython编译器里直接使用,作用是内嵌画图,省略掉plt.show()这一步，直接显示图像。\n",
    "\"\"\"\n",
    "%matplotlib inline\n",
    "visualizer = rci.CarPoseVisualizer(setting) # 初始化类，获得数据集的地址，内外参，分辨率等信息\n",
    "visualizer.load_car_models_json()\n",
    "# image_vis, mask, depth = visualizer.showAnn(setting.image_name)\n"
   ]
  },
  {
   "cell_type": "code",
   "execution_count": 7,
   "metadata": {},
   "outputs": [
    {
     "name": "stdout",
     "output_type": "stream",
     "text": [
      "1\n"
     ]
    }
   ],
   "source": [
    "# image_vis, mask, depth = visualizer.showAnn(setting.image_name)\n",
    "import numpy as np\n",
    "temp = np.array([0.1584375649373483, 0.13563088205454682, -3.077314776688766, 6.809990234375, 5.75218994140625, 25.004599609375])\n",
    "print(np.ndim(temp))"
   ]
  },
  {
   "cell_type": "code",
   "execution_count": 17,
   "metadata": {},
   "outputs": [
    {
     "ename": "NameError",
     "evalue": "name 'mat' is not defined",
     "output_type": "error",
     "traceback": [
      "\u001b[0;31m---------------------------------------------------------------------------\u001b[0m",
      "\u001b[0;31mNameError\u001b[0m                                 Traceback (most recent call last)",
      "\u001b[1;32m/home/yang/Desktop/SLAM_Code_Learning/Apollo-dataset-api/car_instance/demo.ipynb Cell 3\u001b[0m line \u001b[0;36m4\n\u001b[1;32m      <a href='vscode-notebook-cell:/home/yang/Desktop/SLAM_Code_Learning/Apollo-dataset-api/car_instance/demo.ipynb#W2sZmlsZQ%3D%3D?line=1'>2</a>\u001b[0m points \u001b[39m=\u001b[39m visualizer\u001b[39m.\u001b[39mcar_models[\u001b[39m'\u001b[39m\u001b[39m019-SUV\u001b[39m\u001b[39m'\u001b[39m][\u001b[39m'\u001b[39m\u001b[39mvertices\u001b[39m\u001b[39m'\u001b[39m]\u001b[39m.\u001b[39mcopy()\n\u001b[1;32m      <a href='vscode-notebook-cell:/home/yang/Desktop/SLAM_Code_Learning/Apollo-dataset-api/car_instance/demo.ipynb#W2sZmlsZQ%3D%3D?line=2'>3</a>\u001b[0m points \u001b[39m=\u001b[39m np\u001b[39m.\u001b[39mhstack([points, np\u001b[39m.\u001b[39mones((\u001b[39m4294\u001b[39m, \u001b[39m1\u001b[39m))])\n\u001b[0;32m----> <a href='vscode-notebook-cell:/home/yang/Desktop/SLAM_Code_Learning/Apollo-dataset-api/car_instance/demo.ipynb#W2sZmlsZQ%3D%3D?line=3'>4</a>\u001b[0m points \u001b[39m=\u001b[39m np\u001b[39m.\u001b[39mmatmul(points, mat\u001b[39m.\u001b[39mtranspose())  \n\u001b[1;32m      <a href='vscode-notebook-cell:/home/yang/Desktop/SLAM_Code_Learning/Apollo-dataset-api/car_instance/demo.ipynb#W2sZmlsZQ%3D%3D?line=4'>5</a>\u001b[0m \u001b[39mprint\u001b[39m(points)\n",
      "\u001b[0;31mNameError\u001b[0m: name 'mat' is not defined"
     ]
    }
   ],
   "source": [
    "# print(visualizer.car_models['019-SUV']['vertices'].shape[0])\n",
    "points = visualizer.car_models['019-SUV']['vertices'].copy()\n",
    "points = np.hstack([points, np.ones((4294, 1))])\n",
    "points = np.matmul(points, mat.transpose())  \n",
    "print(points)"
   ]
  },
  {
   "cell_type": "code",
   "execution_count": null,
   "metadata": {},
   "outputs": [],
   "source": []
  }
 ],
 "metadata": {
  "kernelspec": {
   "display_name": "nerf",
   "language": "python",
   "name": "python3"
  },
  "language_info": {
   "codemirror_mode": {
    "name": "ipython",
    "version": 3
   },
   "file_extension": ".py",
   "mimetype": "text/x-python",
   "name": "python",
   "nbconvert_exporter": "python",
   "pygments_lexer": "ipython3",
   "version": "3.8.0"
  }
 },
 "nbformat": 4,
 "nbformat_minor": 2
}
