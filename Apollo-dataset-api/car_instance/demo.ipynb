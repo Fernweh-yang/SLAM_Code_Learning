{
 "cells": [
  {
   "cell_type": "code",
   "execution_count": 16,
   "metadata": {},
   "outputs": [],
   "source": [
    "import sys\n",
    "sys.path.insert(0, './renderer')\n",
    "sys.path.insert(0, '../')\n",
    "\n",
    "from collections import namedtuple\n",
    "import render_car_instances as rci\n",
    "import utils.utils as uts\n",
    "\n",
    "Setting = namedtuple('Setting', ['image_name', 'data_dir'])\n",
    "# setting = Setting('180116_053947113_Camera_5', '../apolloscape/3d_car_instance_sample/')\n",
    "# /home/yang/Datasets/ApolloScape/CarInstance/sample/car_models//baojun-310-2017.pkl\n",
    "setting = Setting('180116_053947113_Camera_5', '/home/yang/Datasets/ApolloScape/CarInstance/sample/')\n"
   ]
  },
  {
   "cell_type": "code",
   "execution_count": 17,
   "metadata": {},
   "outputs": [
    {
     "name": "stderr",
     "output_type": "stream",
     "text": [
      "INFO:root:loading 79 car models\n"
     ]
    },
    {
     "ename": "FileNotFoundError",
     "evalue": "[Errno 2] No such file or directory: '/home/yang/Datasets/ApolloScape/CarInstance/samplcar_models//baojun-310-2017.pkl'",
     "output_type": "error",
     "traceback": [
      "\u001b[0;31m---------------------------------------------------------------------------\u001b[0m",
      "\u001b[0;31mFileNotFoundError\u001b[0m                         Traceback (most recent call last)",
      "\u001b[1;32m/home/yang/Desktop/SLAM_Code_Learning/Apollo-dataset-api/car_instance/demo.ipynb Cell 2\u001b[0m line \u001b[0;36m3\n\u001b[1;32m      <a href='vscode-notebook-cell:/home/yang/Desktop/SLAM_Code_Learning/Apollo-dataset-api/car_instance/demo.ipynb#W1sZmlsZQ%3D%3D?line=0'>1</a>\u001b[0m get_ipython()\u001b[39m.\u001b[39mrun_line_magic(\u001b[39m'\u001b[39m\u001b[39mmatplotlib\u001b[39m\u001b[39m'\u001b[39m, \u001b[39m'\u001b[39m\u001b[39minline\u001b[39m\u001b[39m'\u001b[39m)\n\u001b[1;32m      <a href='vscode-notebook-cell:/home/yang/Desktop/SLAM_Code_Learning/Apollo-dataset-api/car_instance/demo.ipynb#W1sZmlsZQ%3D%3D?line=1'>2</a>\u001b[0m visualizer \u001b[39m=\u001b[39m rci\u001b[39m.\u001b[39mCarPoseVisualizer(setting)\n\u001b[0;32m----> <a href='vscode-notebook-cell:/home/yang/Desktop/SLAM_Code_Learning/Apollo-dataset-api/car_instance/demo.ipynb#W1sZmlsZQ%3D%3D?line=2'>3</a>\u001b[0m visualizer\u001b[39m.\u001b[39;49mload_car_models()\n",
      "File \u001b[0;32m~/Desktop/SLAM_Code_Learning/Apollo-dataset-api/car_instance/render_car_instances.py:59\u001b[0m, in \u001b[0;36mCarPoseVisualizer.load_car_models\u001b[0;34m(self)\u001b[0m\n\u001b[1;32m     56\u001b[0m \u001b[39mfor\u001b[39;00m model \u001b[39min\u001b[39;00m car_models\u001b[39m.\u001b[39mmodels:\n\u001b[1;32m     57\u001b[0m     car_model \u001b[39m=\u001b[39m \u001b[39m'\u001b[39m\u001b[39m%s\u001b[39;00m\u001b[39m/\u001b[39m\u001b[39m%s\u001b[39;00m\u001b[39m.pkl\u001b[39m\u001b[39m'\u001b[39m \u001b[39m%\u001b[39m (\u001b[39mself\u001b[39m\u001b[39m.\u001b[39m_data_config[\u001b[39m'\u001b[39m\u001b[39mcar_model_dir\u001b[39m\u001b[39m'\u001b[39m],\n\u001b[1;32m     58\u001b[0m                                model\u001b[39m.\u001b[39mname)\n\u001b[0;32m---> 59\u001b[0m     \u001b[39mwith\u001b[39;00m \u001b[39mopen\u001b[39;49m(car_model) \u001b[39mas\u001b[39;00m f:\n\u001b[1;32m     60\u001b[0m         \u001b[39mself\u001b[39m\u001b[39m.\u001b[39mcar_models[model\u001b[39m.\u001b[39mname] \u001b[39m=\u001b[39m pkl\u001b[39m.\u001b[39mload(f)\n\u001b[1;32m     61\u001b[0m         \u001b[39m# fix the inconsistency between obj and pkl\u001b[39;00m\n",
      "\u001b[0;31mFileNotFoundError\u001b[0m: [Errno 2] No such file or directory: '/home/yang/Datasets/ApolloScape/CarInstance/samplcar_models//baojun-310-2017.pkl'"
     ]
    }
   ],
   "source": [
    "%matplotlib inline\n",
    "visualizer = rci.CarPoseVisualizer(setting)\n",
    "visualizer.load_car_models()\n",
    "# image_vis, mask, depth = visualizer.showAnn(setting.image_name)"
   ]
  },
  {
   "cell_type": "code",
   "execution_count": null,
   "metadata": {},
   "outputs": [],
   "source": []
  }
 ],
 "metadata": {
  "kernelspec": {
   "display_name": "nerf",
   "language": "python",
   "name": "python3"
  },
  "language_info": {
   "codemirror_mode": {
    "name": "ipython",
    "version": 3
   },
   "file_extension": ".py",
   "mimetype": "text/x-python",
   "name": "python",
   "nbconvert_exporter": "python",
   "pygments_lexer": "ipython3",
   "version": "3.8.0"
  }
 },
 "nbformat": 4,
 "nbformat_minor": 2
}
