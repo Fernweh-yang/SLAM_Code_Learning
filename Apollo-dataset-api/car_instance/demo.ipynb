{
 "cells": [
  {
   "cell_type": "code",
   "execution_count": 2,
   "metadata": {},
   "outputs": [],
   "source": [
    "import sys\n",
    "sys.path.insert(0, './renderer')\n",
    "sys.path.insert(0, '../')\n",
    "\n",
    "\"\"\"\n",
    "PyTorch 的 collections 库提供了一些用于管理和操作 Python 集合的工具。\n",
    "namedtuple: 用于创建具有命名属性的元组。\n",
    "\"\"\"\n",
    "from collections import namedtuple\n",
    "import render_car_instances as rci\n",
    "import utils.utils as uts\n",
    "\n",
    "Setting = namedtuple('Setting', ['image_name', 'data_dir'])\n",
    "setting = Setting('180116_053947113_Camera_5', '../apolloscape/sample/')\n",
    "# /home/yang/Datasets/ApolloScape/CarInstance/sample/car_models//baojun-310-2017.pkl\n",
    "# setting = Setting('180116_053947113_Camera_5', '/home/yang/Datasets/ApolloScape/CarInstance/sample/')\n"
   ]
  },
  {
   "cell_type": "code",
   "execution_count": 4,
   "metadata": {},
   "outputs": [
    {
     "name": "stderr",
     "output_type": "stream",
     "text": [
      "INFO:root:loading 79 car models\n"
     ]
    },
    {
     "ename": "AttributeError",
     "evalue": "Can't get attribute 'CHJ_tiny_obj' on <module 'objloader' from '/home/yang/miniconda3/envs/nerf/lib/python3.8/site-packages/objloader/__init__.py'>",
     "output_type": "error",
     "traceback": [
      "\u001b[0;31m---------------------------------------------------------------------------\u001b[0m",
      "\u001b[0;31mAttributeError\u001b[0m                            Traceback (most recent call last)",
      "\u001b[1;32m/home/yang/Desktop/SLAM_Code_Learning/Apollo-dataset-api/car_instance/demo.ipynb Cell 2\u001b[0m line \u001b[0;36m8\n\u001b[1;32m      <a href='vscode-notebook-cell:/home/yang/Desktop/SLAM_Code_Learning/Apollo-dataset-api/car_instance/demo.ipynb#W1sZmlsZQ%3D%3D?line=5'>6</a>\u001b[0m visualizer \u001b[39m=\u001b[39m rci\u001b[39m.\u001b[39mCarPoseVisualizer(setting)\n\u001b[1;32m      <a href='vscode-notebook-cell:/home/yang/Desktop/SLAM_Code_Learning/Apollo-dataset-api/car_instance/demo.ipynb#W1sZmlsZQ%3D%3D?line=6'>7</a>\u001b[0m \u001b[39m# print(visualizer.dataset)\u001b[39;00m\n\u001b[0;32m----> <a href='vscode-notebook-cell:/home/yang/Desktop/SLAM_Code_Learning/Apollo-dataset-api/car_instance/demo.ipynb#W1sZmlsZQ%3D%3D?line=7'>8</a>\u001b[0m visualizer\u001b[39m.\u001b[39;49mload_car_models()\n",
      "File \u001b[0;32m~/Desktop/SLAM_Code_Learning/Apollo-dataset-api/car_instance/render_car_instances.py:60\u001b[0m, in \u001b[0;36mCarPoseVisualizer.load_car_models\u001b[0;34m(self)\u001b[0m\n\u001b[1;32m     57\u001b[0m car_model \u001b[39m=\u001b[39m \u001b[39m'\u001b[39m\u001b[39m%s\u001b[39;00m\u001b[39m/\u001b[39m\u001b[39m%s\u001b[39;00m\u001b[39m.pkl\u001b[39m\u001b[39m'\u001b[39m \u001b[39m%\u001b[39m (\u001b[39mself\u001b[39m\u001b[39m.\u001b[39m_data_config[\u001b[39m'\u001b[39m\u001b[39mcar_model_dir\u001b[39m\u001b[39m'\u001b[39m],\n\u001b[1;32m     58\u001b[0m                            model\u001b[39m.\u001b[39mname)\n\u001b[1;32m     59\u001b[0m \u001b[39mwith\u001b[39;00m \u001b[39mopen\u001b[39m(car_model,\u001b[39m\"\u001b[39m\u001b[39mrb\u001b[39m\u001b[39m\"\u001b[39m) \u001b[39mas\u001b[39;00m f:\n\u001b[0;32m---> 60\u001b[0m     \u001b[39mself\u001b[39m\u001b[39m.\u001b[39mcar_models[model\u001b[39m.\u001b[39mname] \u001b[39m=\u001b[39m pkl\u001b[39m.\u001b[39;49mload(f)\n\u001b[1;32m     61\u001b[0m     \u001b[39m# fix the inconsistency between obj and pkl\u001b[39;00m\n\u001b[1;32m     62\u001b[0m     \u001b[39mself\u001b[39m\u001b[39m.\u001b[39mcar_models[model\u001b[39m.\u001b[39mname][\u001b[39m'\u001b[39m\u001b[39mvertices\u001b[39m\u001b[39m'\u001b[39m][:, [\u001b[39m0\u001b[39m, \u001b[39m1\u001b[39m]] \u001b[39m*\u001b[39m\u001b[39m=\u001b[39m \u001b[39m-\u001b[39m\u001b[39m1\u001b[39m\n",
      "\u001b[0;31mAttributeError\u001b[0m: Can't get attribute 'CHJ_tiny_obj' on <module 'objloader' from '/home/yang/miniconda3/envs/nerf/lib/python3.8/site-packages/objloader/__init__.py'>"
     ]
    }
   ],
   "source": [
    "\"\"\"\n",
    "matplotlib inline是IPython的魔法函数,\n",
    "可以在IPython编译器里直接使用,作用是内嵌画图,省略掉plt.show()这一步，直接显示图像。\n",
    "\"\"\"\n",
    "%matplotlib inline\n",
    "visualizer = rci.CarPoseVisualizer(setting)\n",
    "# print(visualizer.dataset)\n",
    "# visualizer.load_car_models()\n",
    "# image_vis, mask, depth = visualizer.showAnn(setting.image_name)"
   ]
  },
  {
   "cell_type": "code",
   "execution_count": null,
   "metadata": {},
   "outputs": [],
   "source": []
  }
 ],
 "metadata": {
  "kernelspec": {
   "display_name": "nerf",
   "language": "python",
   "name": "python3"
  },
  "language_info": {
   "codemirror_mode": {
    "name": "ipython",
    "version": 3
   },
   "file_extension": ".py",
   "mimetype": "text/x-python",
   "name": "python",
   "nbconvert_exporter": "python",
   "pygments_lexer": "ipython3",
   "version": "3.8.0"
  }
 },
 "nbformat": 4,
 "nbformat_minor": 2
}
