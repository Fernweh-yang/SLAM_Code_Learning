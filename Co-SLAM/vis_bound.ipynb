{
 "cells": [
  {
   "cell_type": "code",
   "execution_count": null,
   "metadata": {},
   "outputs": [],
   "source": [
    "from datasets.dataset import iPhoneDataset\n",
    "import config\n",
    "path_to_bound = 'configs/IPhone/statue.yaml'\n",
    "cfg = config.load_config(path_to_bound)\n",
    "dataset = iPhoneDataset(cfg=cfg, basedir=cfg['data']['datadir'])\n",
    "\n"
   ]
  },
  {
   "cell_type": "code",
   "execution_count": 4,
   "metadata": {},
   "outputs": [
    {
     "name": "stderr",
     "output_type": "stream",
     "text": [
      "810it [01:33,  8.69it/s]"
     ]
    },
    {
     "name": "stdout",
     "output_type": "stream",
     "text": [
      "Extract a triangle mesh from the volume and visualize it.\n"
     ]
    },
    {
     "name": "stderr",
     "output_type": "stream",
     "text": [
      "\n"
     ]
    },
    {
     "data": {
      "text/plain": [
       "TriangleMesh with 35307 points and 61071 triangles."
      ]
     },
     "execution_count": 4,
     "metadata": {},
     "output_type": "execute_result"
    }
   ],
   "source": [
    "import open3d as o3d\n",
    "import numpy as np\n",
    "import os\n",
    "from tqdm import tqdm\n",
    "H, W = dataset.H, dataset.W\n",
    "fx, fy, cx, cy = dataset.fx, dataset.fy, dataset.cx, dataset.cy\n",
    "K = o3d.camera.PinholeCameraIntrinsic(W, H, fx, fy, cx, cy)\n",
    "voxel_length = 0.02\n",
    "volume = o3d.pipelines.integration.ScalableTSDFVolume(voxel_length=voxel_length, sdf_trunc=0.04,\n",
    "                                            color_type=o3d.pipelines.integration.TSDFVolumeColorType.RGB8)\n",
    "\n",
    "for i, frame in tqdm(enumerate(dataset)):\n",
    "    if i % 10 != 0:\n",
    "        continue\n",
    "    rgb, depth = frame[\"rgb\"].cpu().numpy(), frame[\"depth\"].cpu().numpy()\n",
    "    c2w = frame[\"c2w\"].cpu().numpy()\n",
    "    rgb = rgb * 255\n",
    "    rgb = rgb.astype(np.uint8)\n",
    "    rgb = o3d.geometry.Image(rgb)\n",
    "    depth = depth.astype(np.float32)\n",
    "    depth = o3d.geometry.Image(depth)\n",
    "    rgbd = o3d.geometry.RGBDImage.create_from_color_and_depth(rgb, depth, depth_scale=1.0,\n",
    "                                                                depth_trunc=8.0,\n",
    "                                                                convert_rgb_to_intensity=False)\n",
    "    c2w[:3, 1] *= -1\n",
    "    c2w[:3, 2] *= -1\n",
    "    w2c = np.linalg.inv(c2w)\n",
    "    # requires w2c\n",
    "    volume.integrate(rgbd, K, w2c)\n",
    "\n",
    "print(\"Extract a triangle mesh from the volume and visualize it.\")\n",
    "mesh = volume.extract_triangle_mesh()\n",
    "mesh.compute_vertex_normals()"
   ]
  },
  {
   "cell_type": "code",
   "execution_count": 5,
   "metadata": {},
   "outputs": [],
   "source": [
    "from tools.vis_cameras import visualize, draw_cuboid\n",
    "mesh_gt = o3d.io.read_triangle_mesh(\"mesh-fused.ply\")\n",
    "cfg = config.load_config('configs/IPhone/statue.yaml')\n",
    "scene_bound = np.array(cfg[\"mapping\"][\"bound\"])\n",
    "mcube_bound = np.array(cfg[\"mapping\"][\"marching_cubes_bound\"])\n",
    "\n",
    "cube_large = draw_cuboid(scene_bound)\n",
    "cube_small = draw_cuboid(mcube_bound)\n",
    "\n",
    "visualize(extrinsics=None, things_to_draw=[cube_large, cube_small, mesh_gt])"
   ]
  }
 ],
 "metadata": {
  "kernelspec": {
   "display_name": "pytorch37",
   "language": "python",
   "name": "python3"
  },
  "language_info": {
   "codemirror_mode": {
    "name": "ipython",
    "version": 3
   },
   "file_extension": ".py",
   "mimetype": "text/x-python",
   "name": "python",
   "nbconvert_exporter": "python",
   "pygments_lexer": "ipython3",
   "version": "3.7.13"
  },
  "orig_nbformat": 4
 },
 "nbformat": 4,
 "nbformat_minor": 2
}
